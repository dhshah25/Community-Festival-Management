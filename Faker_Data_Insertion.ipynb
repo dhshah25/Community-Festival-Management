{
  "cells": [
    {
      "cell_type": "code",
      "source": [
        "pip install faker"
      ],
      "metadata": {
        "colab": {
          "base_uri": "https://localhost:8080/"
        },
        "id": "d9RqWvHkxR5-",
        "outputId": "14ec176a-0386-4d5a-9d23-01c43b07f2a5"
      },
      "id": "d9RqWvHkxR5-",
      "execution_count": 1,
      "outputs": [
        {
          "output_type": "stream",
          "name": "stdout",
          "text": [
            "Collecting faker\n",
            "  Downloading faker-37.0.0-py3-none-any.whl.metadata (15 kB)\n",
            "Requirement already satisfied: tzdata in /usr/local/lib/python3.11/dist-packages (from faker) (2025.1)\n",
            "Downloading faker-37.0.0-py3-none-any.whl (1.9 MB)\n",
            "\u001b[?25l   \u001b[90m━━━━━━━━━━━━━━━━━━━━━━━━━━━━━━━━━━━━━━━━\u001b[0m \u001b[32m0.0/1.9 MB\u001b[0m \u001b[31m?\u001b[0m eta \u001b[36m-:--:--\u001b[0m\r\u001b[2K   \u001b[91m━━━\u001b[0m\u001b[91m╸\u001b[0m\u001b[90m━━━━━━━━━━━━━━━━━━━━━━━━━━━━━━━━━━━━\u001b[0m \u001b[32m0.2/1.9 MB\u001b[0m \u001b[31m5.6 MB/s\u001b[0m eta \u001b[36m0:00:01\u001b[0m\r\u001b[2K   \u001b[91m━━━━━━━━━━━━━━━━━━━━━━━━━━━━━━━━━━━━━━━\u001b[0m\u001b[91m╸\u001b[0m \u001b[32m1.9/1.9 MB\u001b[0m \u001b[31m27.7 MB/s\u001b[0m eta \u001b[36m0:00:01\u001b[0m\r\u001b[2K   \u001b[90m━━━━━━━━━━━━━━━━━━━━━━━━━━━━━━━━━━━━━━━━\u001b[0m \u001b[32m1.9/1.9 MB\u001b[0m \u001b[31m19.1 MB/s\u001b[0m eta \u001b[36m0:00:00\u001b[0m\n",
            "\u001b[?25hInstalling collected packages: faker\n",
            "Successfully installed faker-37.0.0\n"
          ]
        }
      ]
    },
    {
      "cell_type": "code",
      "execution_count": 11,
      "id": "67b30738-7c55-424e-9cde-47ce2dae61be",
      "metadata": {
        "colab": {
          "base_uri": "https://localhost:8080/"
        },
        "id": "67b30738-7c55-424e-9cde-47ce2dae61be",
        "outputId": "7ec584a6-8935-406e-9ffc-0160ddda918c"
      },
      "outputs": [
        {
          "output_type": "stream",
          "name": "stdout",
          "text": [
            "3000 INSERT statements for public.Festival table written to 'festival_inserts_erd.sql'.\n"
          ]
        }
      ],
      "source": [
        "#festival\n",
        "\n",
        "import random\n",
        "from faker import Faker\n",
        "\n",
        "fake = Faker()\n",
        "\n",
        "num_festivals = 3000\n",
        "\n",
        "with open(\"festival_inserts_erd.sql\", \"w\") as f:\n",
        "    for festival_id in range(1, num_festivals + 1):\n",
        "        name = fake.company().replace(\"'\", \"''\") + \" Festival\"\n",
        "        start_date = fake.date_between(start_date=\"-2y\", end_date=\"today\")\n",
        "        end_date = fake.date_between(start_date=start_date, end_date=\"+10d\")\n",
        "        description = fake.text(max_nb_chars=200).replace(\"'\", \"''\")\n",
        "\n",
        "        insert_stmt = (\n",
        "            f'INSERT INTO public.\"Festival\" (\"Name\", \"StartDate\", \"EndDate\", \"Description\") VALUES '\n",
        "            f\"('{name}', '{start_date}', '{end_date}', '{description}');\\n\"\n",
        "        )\n",
        "        f.write(insert_stmt)\n",
        "\n",
        "print(f\"{num_festivals} INSERT statements for public.Festival table written to 'festival_inserts_erd.sql'.\")"
      ]
    },
    {
      "cell_type": "code",
      "execution_count": 2,
      "id": "8dda5aef-a0d2-47b2-9e93-af4911e63aec",
      "metadata": {
        "colab": {
          "base_uri": "https://localhost:8080/"
        },
        "id": "8dda5aef-a0d2-47b2-9e93-af4911e63aec",
        "outputId": "f4861f4e-b78d-4ffc-8953-235e073d3314"
      },
      "outputs": [
        {
          "output_type": "stream",
          "name": "stdout",
          "text": [
            "3000 INSERT statements for public.\"Event\" table written to 'event_inserts_erd.sql'.\n"
          ]
        }
      ],
      "source": [
        "#event\n",
        "\n",
        "import random\n",
        "from faker import Faker\n",
        "\n",
        "fake = Faker()\n",
        "\n",
        "num_events = 3000\n",
        "num_festivals = 3000\n",
        "num_venues = 3000\n",
        "\n",
        "with open(\"event_inserts_erd.sql\", \"w\") as f:\n",
        "    for event_id in range(1, num_events + 1):\n",
        "        festival_id = random.randint(1, num_festivals)\n",
        "        title = fake.catch_phrase().replace(\"'\", \"''\")\n",
        "        event_date = fake.date_between(start_date=\"-1y\", end_date=\"+1y\")\n",
        "\n",
        "        start_hour = random.randint(0, 23)\n",
        "        start_minute = random.randint(0, 59)\n",
        "        start_time = f\"{start_hour:02}:{start_minute:02}:00\"\n",
        "\n",
        "        end_hour = random.randint(0, 23)\n",
        "        end_minute = random.randint(0, 59)\n",
        "        end_time = f\"{end_hour:02}:{end_minute:02}:00\"\n",
        "\n",
        "        venue_id = random.randint(1, num_venues)\n",
        "        description = fake.text(max_nb_chars=200).replace(\"'\", \"''\")\n",
        "\n",
        "        insert_stmt = (\n",
        "            f\"INSERT INTO public.\\\"Event\\\" (\\\"FestivalID\\\", \\\"Title\\\", \\\"EventDate\\\", \\\"StartTime\\\", \\\"EndTime\\\", \\\"VenueID\\\", \\\"Description\\\") VALUES \"\n",
        "            f\"( {festival_id}, '{title}', '{event_date}', '{start_time}', '{end_time}', {venue_id}, '{description}');\\n\"\n",
        "        )\n",
        "        f.write(insert_stmt)\n",
        "\n",
        "print(f\"{num_events} INSERT statements for public.\\\"Event\\\" table written to 'event_inserts_erd.sql'.\")\n"
      ]
    },
    {
      "cell_type": "code",
      "execution_count": 3,
      "id": "411e63e6-9034-4ebe-b28d-27020f483efe",
      "metadata": {
        "colab": {
          "base_uri": "https://localhost:8080/"
        },
        "id": "411e63e6-9034-4ebe-b28d-27020f483efe",
        "outputId": "b9fe9a0d-f0e4-4b57-a336-58009d2ffb81"
      },
      "outputs": [
        {
          "output_type": "stream",
          "name": "stdout",
          "text": [
            "3000 INSERT statements for public.Artist table written to 'artist_inserts_erd.sql'.\n"
          ]
        }
      ],
      "source": [
        "#artist\n",
        "\n",
        "import random\n",
        "from faker import Faker\n",
        "\n",
        "fake = Faker()\n",
        "\n",
        "num_artists = 3000\n",
        "genres = [\"Rock\", \"Pop\", \"Jazz\", \"Classical\", \"Hip-Hop\", \"Electronic\", \"Country\", \"Blues\", \"Metal\", \"Reggae\"]\n",
        "\n",
        "with open(\"artist_inserts_erd.sql\", \"w\") as f:\n",
        "    for artist_id in range(1, num_artists + 1):\n",
        "        name = fake.name().replace(\"'\", \"''\")\n",
        "        genre = random.choice(genres)\n",
        "        contact_info = fake.email().replace(\"'\", \"''\")\n",
        "        bio = fake.text(max_nb_chars=250).replace(\"'\", \"''\")\n",
        "\n",
        "        insert_stmt = (\n",
        "            f'INSERT INTO public.\"Artist\" (\"Name\", \"Genre\", \"ContactInfo\", \"Bio\") VALUES '\n",
        "            f\"('{name}', '{genre}', '{contact_info}', '{bio}');\\n\"\n",
        "        )\n",
        "        f.write(insert_stmt)\n",
        "\n",
        "print(f\"{num_artists} INSERT statements for public.Artist table written to 'artist_inserts_erd.sql'.\")\n"
      ]
    },
    {
      "cell_type": "code",
      "execution_count": 4,
      "id": "83036ed9-0fe7-4638-83c5-bd3089b0773e",
      "metadata": {
        "colab": {
          "base_uri": "https://localhost:8080/"
        },
        "id": "83036ed9-0fe7-4638-83c5-bd3089b0773e",
        "outputId": "46347637-dc42-409a-b7e3-8f9979dbf787"
      },
      "outputs": [
        {
          "output_type": "stream",
          "name": "stdout",
          "text": [
            "3000 INSERT statements for public.Feedback table written to 'feedback_inserts_erd.sql'.\n"
          ]
        }
      ],
      "source": [
        "#feedback\n",
        "\n",
        "import random\n",
        "from faker import Faker\n",
        "\n",
        "fake = Faker()\n",
        "\n",
        "num_feedbacks = 3000\n",
        "\n",
        "with open(\"feedback_inserts_erd.sql\", \"w\") as f:\n",
        "    for feedback_id in range(1, num_feedbacks + 1):\n",
        "        event_id = random.randint(1, 3000)\n",
        "        participant_name = fake.name().replace(\"'\", \"''\")\n",
        "        rating = random.randint(1, 5)\n",
        "        comments = fake.sentence(nb_words=12).replace(\"'\", \"''\")\n",
        "        feedback_date = fake.date_between(start_date=\"-1y\", end_date=\"today\")\n",
        "\n",
        "        insert_stmt = (\n",
        "            f'INSERT INTO public.\"Feedback\" (\"EventID\", \"ParticipantName\", \"Rating\", \"Comments\", \"FeedbackDate\") VALUES '\n",
        "            f\"({event_id}, '{participant_name}', {rating}, '{comments}', '{feedback_date}');\\n\"\n",
        "        )\n",
        "        f.write(insert_stmt)\n",
        "\n",
        "print(f\"{num_feedbacks} INSERT statements for public.Feedback table written to 'feedback_inserts_erd.sql'.\")\n"
      ]
    },
    {
      "cell_type": "code",
      "execution_count": 5,
      "id": "98345d25-4e3d-4d00-a858-48340df62f91",
      "metadata": {
        "colab": {
          "base_uri": "https://localhost:8080/"
        },
        "id": "98345d25-4e3d-4d00-a858-48340df62f91",
        "outputId": "77b46ee7-d492-4d9d-cdf3-cff92eff5c65"
      },
      "outputs": [
        {
          "output_type": "stream",
          "name": "stdout",
          "text": [
            "3000 INSERT statements for public.Ticket table written to 'ticket_inserts_erd.sql'.\n"
          ]
        }
      ],
      "source": [
        "#tickets\n",
        "\n",
        "import random\n",
        "from faker import Faker\n",
        "\n",
        "fake = Faker()\n",
        "\n",
        "num_tickets = 3000\n",
        "ticket_types = [\"Regular\", \"VIP\", \"Student\", \"Child\"]\n",
        "\n",
        "with open(\"ticket_inserts_erd.sql\", \"w\") as f:\n",
        "    for ticket_id in range(1, num_tickets + 1):\n",
        "        event_id = random.randint(1, 3000)\n",
        "        buyer_name = fake.name().replace(\"'\", \"''\")\n",
        "        purchase_date = fake.date_between(start_date=\"-1y\", end_date=\"today\")\n",
        "        price = round(random.uniform(10, 200), 2)\n",
        "        ticket_type = random.choice(ticket_types)\n",
        "\n",
        "        insert_stmt = (\n",
        "            f'INSERT INTO public.\"Ticket\" (\"EventID\", \"BuyerName\", \"PurchaseDate\", \"Price\", \"TicketType\") VALUES '\n",
        "            f\"({event_id}, '{buyer_name}', '{purchase_date}', {price}, '{ticket_type}');\\n\"\n",
        "        )\n",
        "        f.write(insert_stmt)\n",
        "\n",
        "print(f\"{num_tickets} INSERT statements for public.Ticket table written to 'ticket_inserts_erd.sql'.\")\n"
      ]
    },
    {
      "cell_type": "code",
      "execution_count": 6,
      "id": "38293c02-a490-4b35-9427-4f3554f7d7a3",
      "metadata": {
        "colab": {
          "base_uri": "https://localhost:8080/"
        },
        "id": "38293c02-a490-4b35-9427-4f3554f7d7a3",
        "outputId": "a3e15e55-5dd8-41ed-e0b8-06691095e048"
      },
      "outputs": [
        {
          "output_type": "stream",
          "name": "stdout",
          "text": [
            "3000 INSERT statements for public.Sponsor table written to 'sponsor_inserts_erd.sql'.\n"
          ]
        }
      ],
      "source": [
        "#sponsor\n",
        "\n",
        "import random\n",
        "from faker import Faker\n",
        "\n",
        "fake = Faker()\n",
        "\n",
        "num_sponsors = 3000\n",
        "sponsorship_types = [\"Gold\", \"Silver\", \"Bronze\", \"Media\", \"In-Kind\"]\n",
        "\n",
        "with open(\"sponsor_inserts_erd.sql\", \"w\") as f:\n",
        "    for sponsor_id in range(1, num_sponsors + 1):\n",
        "        name = fake.company().replace(\"'\", \"''\")\n",
        "        contribution = round(random.uniform(1000, 50000), 2)\n",
        "        contact_info = fake.email().replace(\"'\", \"''\")\n",
        "        sponsorship_type = random.choice(sponsorship_types)\n",
        "\n",
        "        insert_stmt = (\n",
        "            f'INSERT INTO public.\"Sponsor\" ( \"Name\", \"Contribution\", \"ContactInfo\", \"SponsorshipType\") VALUES '\n",
        "            f\"('{name}', {contribution}, '{contact_info}', '{sponsorship_type}');\\n\"\n",
        "        )\n",
        "        f.write(insert_stmt)\n",
        "\n",
        "print(f\"{num_sponsors} INSERT statements for public.Sponsor table written to 'sponsor_inserts_erd.sql'.\")\n"
      ]
    },
    {
      "cell_type": "code",
      "execution_count": 7,
      "id": "8b008341-32bc-4c9b-87a5-13543c56ae17",
      "metadata": {
        "colab": {
          "base_uri": "https://localhost:8080/"
        },
        "id": "8b008341-32bc-4c9b-87a5-13543c56ae17",
        "outputId": "49a9bc75-cc17-4a92-e570-cf6c22915726"
      },
      "outputs": [
        {
          "output_type": "stream",
          "name": "stdout",
          "text": [
            "3000 INSERT statements for public.Volunteer table written to 'volunteer_inserts_erd.sql'.\n"
          ]
        }
      ],
      "source": [
        "#volunteer\n",
        "\n",
        "import random\n",
        "from faker import Faker\n",
        "\n",
        "fake = Faker()\n",
        "\n",
        "num_volunteers = 3000\n",
        "\n",
        "roles = [\"Usher\", \"Ticket Checker\", \"Stage Crew\", \"Info Desk\", \"Security\"]\n",
        "availabilities = [\"Morning\", \"Afternoon\", \"Evening\", \"Full Day\"]\n",
        "\n",
        "with open(\"volunteer_inserts_erd.sql\", \"w\") as f:\n",
        "    for volunteer_id in range(1, num_volunteers + 1):\n",
        "        name = fake.name().replace(\"'\", \"''\")\n",
        "        contact_info = fake.phone_number().replace(\"'\", \"''\")\n",
        "        availability = random.choice(availabilities)\n",
        "        role = random.choice(roles)\n",
        "\n",
        "        insert_stmt = (\n",
        "            f'INSERT INTO public.\"Volunteer\" (\"Name\", \"ContactInfo\", \"Availability\", \"Role\") VALUES '\n",
        "            f\"('{name}', '{contact_info}', '{availability}', '{role}');\\n\"\n",
        "        )\n",
        "        f.write(insert_stmt)\n",
        "\n",
        "print(f\"{num_volunteers} INSERT statements for public.Volunteer table written to 'volunteer_inserts_erd.sql'.\")\n"
      ]
    },
    {
      "cell_type": "code",
      "execution_count": 8,
      "id": "4856559a-532a-4383-a95f-3544514ed938",
      "metadata": {
        "colab": {
          "base_uri": "https://localhost:8080/"
        },
        "id": "4856559a-532a-4383-a95f-3544514ed938",
        "outputId": "94339ee8-eee9-4982-8f0b-066ecda9f876"
      },
      "outputs": [
        {
          "output_type": "stream",
          "name": "stdout",
          "text": [
            "3000 INSERT statements for public.Performance table written to 'performance_inserts_erd.sql'.\n"
          ]
        }
      ],
      "source": [
        "#performance\n",
        "\n",
        "import random\n",
        "from faker import Faker\n",
        "\n",
        "fake = Faker()\n",
        "\n",
        "num_performances = 3000\n",
        "\n",
        "with open(\"performance_inserts_erd.sql\", \"w\") as f:\n",
        "    for performance_id in range(1, num_performances + 1):\n",
        "        event_id = random.randint(1, 3000)\n",
        "        artist_id = random.randint(1, 3000)\n",
        "        performance_time = fake.time(pattern=\"%H:%M:%S\")\n",
        "        duration = random.randint(30, 180)\n",
        "        special_notes = fake.sentence(nb_words=10).replace(\"'\", \"''\")\n",
        "\n",
        "        insert_stmt = (\n",
        "            f'INSERT INTO public.\"Performance\" (\"EventID\", \"ArtistID\", \"PerformanceTime\", \"Duration\", \"SpecialNotes\") VALUES '\n",
        "            f\"({event_id}, {artist_id}, '{performance_time}', {duration}, '{special_notes}');\\n\"\n",
        "        )\n",
        "        f.write(insert_stmt)\n",
        "\n",
        "print(f\"{num_performances} INSERT statements for public.Performance table written to 'performance_inserts_erd.sql'.\")\n"
      ]
    },
    {
      "cell_type": "code",
      "execution_count": 9,
      "id": "4d9dfa2f-38bc-4b33-8344-a7c00c839063",
      "metadata": {
        "colab": {
          "base_uri": "https://localhost:8080/"
        },
        "id": "4d9dfa2f-38bc-4b33-8344-a7c00c839063",
        "outputId": "e709419a-1506-4f4f-baa1-d2d1a9d55e6d"
      },
      "outputs": [
        {
          "output_type": "stream",
          "name": "stdout",
          "text": [
            "3000 INSERT statements for public.Venue table written to 'venue_inserts_erd.sql'.\n"
          ]
        }
      ],
      "source": [
        "#venue\n",
        "\n",
        "import random\n",
        "from faker import Faker\n",
        "\n",
        "fake = Faker()\n",
        "\n",
        "num_venues = 3000\n",
        "\n",
        "with open(\"venue_inserts_erd.sql\", \"w\") as f:\n",
        "    for venue_id in range(1, num_venues + 1):\n",
        "        name = fake.company().replace(\"'\", \"''\")\n",
        "        address = fake.address().replace(\"\\n\", \", \").replace(\"'\", \"''\")\n",
        "        capacity = random.randint(50, 5000)\n",
        "        contact_info = fake.phone_number()\n",
        "\n",
        "        insert_stmt = (\n",
        "            f'INSERT INTO public.\"Venue\" (\"Name\", \"Address\", \"Capacity\", \"ContactInfo\") VALUES '\n",
        "            f\"('{name}', '{address}', {capacity}, '{contact_info}');\\n\"\n",
        "        )\n",
        "        f.write(insert_stmt)\n",
        "\n",
        "print(f\"{num_venues} INSERT statements for public.Venue table written to 'venue_inserts_erd.sql'.\")"
      ]
    },
    {
      "cell_type": "code",
      "source": [
        "# registration and participant\n",
        "\n",
        "import random\n",
        "from faker import Faker\n",
        "\n",
        "fake = Faker()\n",
        "\n",
        "num_participants = 3000\n",
        "num_registrations = 3000\n",
        "registration_types = [\"Attendee\", \"Volunteer\", \"Exhibitor\"]\n",
        "used_emails = set()\n",
        "\n",
        "participant_file = open(\"participant_inserts_erd.sql\", \"w\")\n",
        "registration_file = open(\"registration_inserts_erd.sql\", \"w\")\n",
        "\n",
        "for _ in range(num_participants):\n",
        "    email = fake.unique.email().replace(\"'\", \"''\")\n",
        "    participant_name = fake.name().replace(\"'\", \"''\")\n",
        "    registration_date = fake.date_between(start_date=\"-1y\", end_date=\"today\")\n",
        "    registration_type = random.choice(registration_types)\n",
        "\n",
        "    used_emails.add(email)\n",
        "\n",
        "    participant_file.write(\n",
        "        f'INSERT INTO public.\"Participant\" (\"Email\", \"ParticipantName\", \"RegistrationDate\", \"RegistrationType\") VALUES '\n",
        "        f\"('{email}', '{participant_name}', '{registration_date}', '{registration_type}');\\n\"\n",
        "    )\n",
        "\n",
        "for registration_id in range(1, num_registrations + 1):\n",
        "    if not used_emails:\n",
        "        break\n",
        "\n",
        "    festival_id = random.randint(1, 3000)\n",
        "    email = used_emails.pop()\n",
        "\n",
        "    registration_file.write(\n",
        "        f'INSERT INTO public.\"Registration\" (\"FestivalID\", \"Email\") VALUES '\n",
        "        f\"({festival_id}, '{email}');\\n\"\n",
        "    )\n",
        "\n",
        "participant_file.close()\n",
        "registration_file.close()\n",
        "\n",
        "print(f\"{num_participants} INSERT statements written to 'participant_inserts_erd.sql'.\")\n",
        "print(f\"{num_registrations} (or fewer) INSERT statements written to 'registration_inserts_erd.sql'.\")\n"
      ],
      "metadata": {
        "colab": {
          "base_uri": "https://localhost:8080/"
        },
        "id": "UeeMAoMFz9Ah",
        "outputId": "aacf49f4-4f22-4ae3-c09f-c19751b196c3"
      },
      "id": "UeeMAoMFz9Ah",
      "execution_count": 10,
      "outputs": [
        {
          "output_type": "stream",
          "name": "stdout",
          "text": [
            "3000 INSERT statements written to 'participant_inserts_erd.sql'.\n",
            "3000 (or fewer) INSERT statements written to 'registration_inserts_erd.sql'.\n"
          ]
        }
      ]
    }
  ],
  "metadata": {
    "kernelspec": {
      "display_name": "Python 3 (ipykernel)",
      "language": "python",
      "name": "python3"
    },
    "language_info": {
      "codemirror_mode": {
        "name": "ipython",
        "version": 3
      },
      "file_extension": ".py",
      "mimetype": "text/x-python",
      "name": "python",
      "nbconvert_exporter": "python",
      "pygments_lexer": "ipython3",
      "version": "3.12.7"
    },
    "colab": {
      "provenance": []
    }
  },
  "nbformat": 4,
  "nbformat_minor": 5
}
